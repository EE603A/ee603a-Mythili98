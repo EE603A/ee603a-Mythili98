{
 "cells": [
  {
   "cell_type": "code",
   "execution_count": 57,
   "id": "b74cb1be",
   "metadata": {},
   "outputs": [],
   "source": [
    "import numpy as np\n",
    "import matplotlib.pyplot as plt\n",
    "import pandas as pd\n",
    "from sklearn.preprocessing import LabelEncoder\n",
    "from sklearn.model_selection import train_test_split\n",
    "import keras\n",
    "from keras.callbacks import ModelCheckpoint\n",
    "from sklearn import metrics\n",
    "import tensorflow as tf\n",
    "import csv\n",
    "import os"
   ]
  },
  {
   "cell_type": "code",
   "execution_count": 58,
   "id": "724ef559",
   "metadata": {},
   "outputs": [],
   "source": [
    "directory_list = os.listdir('C:/Users/Swathi Pratapa/Desktop/Assignments/MLSP/AssignementOne/test/Audio_Classification-MLSP-test')\n",
    "\n",
    "directory_list = np.array(directory_list)"
   ]
  },
  {
   "cell_type": "code",
   "execution_count": 59,
   "id": "a44f346b",
   "metadata": {},
   "outputs": [],
   "source": [
    "X_data = np.empty([1,128])\n",
    "X_Final = np.empty([201,16])\n",
    "# X_Final_N = np.empty([201,16])\n",
    "X_mean = np.empty([1,16])\n",
    "for i in range(0,201):\n",
    "    File_name = directory_list[i]\n",
    "    #File_Final = File_name[0]\n",
    "    file_path = 'C:/Users/Swathi Pratapa/Desktop/Assignments/MLSP/AssignementOne/test/Audio_Classification-MLSP-test/'+File_name\n",
    "    File_Pre = np.load(file_path)\n",
    "    max_value = np.max(File_Pre)\n",
    "    File_Pre = File_Pre/max_value\n",
    "    a, rows, cols = File_Pre.shape\n",
    "    for f in range(rows):\n",
    "        X_data[0,f] = np.max(File_Pre[:,f,:])\n",
    "    binsize = 8\n",
    "    binnum = int(rows/binsize)\n",
    "    for k in range(binnum):\n",
    "        X_mean[0,k] = np.mean(X_data[0,k*binsize:(k+1)*binsize])\n",
    "    X_Final[i,:] = X_mean"
   ]
  },
  {
   "cell_type": "markdown",
   "id": "59defa4d",
   "metadata": {},
   "source": [
    "Printing the X_data shape"
   ]
  },
  {
   "cell_type": "code",
   "execution_count": 60,
   "id": "801911fd",
   "metadata": {},
   "outputs": [
    {
     "name": "stdout",
     "output_type": "stream",
     "text": [
      "(201, 16)\n"
     ]
    }
   ],
   "source": [
    "print(X_Final.shape)"
   ]
  },
  {
   "cell_type": "markdown",
   "id": "fad64397",
   "metadata": {},
   "source": [
    "Loading the pre-trained model for prediction -  code for the model is in the file : ANN_16X1_Final_Metrics_COPY1"
   ]
  },
  {
   "cell_type": "code",
   "execution_count": 61,
   "id": "e1c40f12",
   "metadata": {},
   "outputs": [],
   "source": [
    "filepath = 'my_best_model.hdf5'"
   ]
  },
  {
   "cell_type": "code",
   "execution_count": 62,
   "id": "1db521b8",
   "metadata": {},
   "outputs": [],
   "source": [
    "model1 = keras.models.load_model(filepath)"
   ]
  },
  {
   "cell_type": "code",
   "execution_count": 63,
   "id": "dd24dcf5",
   "metadata": {},
   "outputs": [
    {
     "name": "stdout",
     "output_type": "stream",
     "text": [
      "7/7 [==============================] - 0s 816us/step\n"
     ]
    }
   ],
   "source": [
    "# Predict test data\n",
    "y_pred = model1.predict(X_Final)"
   ]
  },
  {
   "cell_type": "code",
   "execution_count": 64,
   "id": "b8602cae",
   "metadata": {
    "scrolled": true
   },
   "outputs": [
    {
     "name": "stdout",
     "output_type": "stream",
     "text": [
      "Predicted: [5 7 3 0 0 4 4 4 4 4 3 4 4 4 4 1 4 0 4 4 4 8 6 5 5 5 5 5 2 6 5 2 6 6 5 9 9\n",
      " 8 8 3 2 6 2 2 5 6 1 6 2 2 6 5 5 6 0 6 6 6 6 0 6 0 0 4 4 7 0 4 4 2 7 7 2 7\n",
      " 3 3 3 3 4 8 8 8 3 8 8 7 8 3 8 8 2 8 5 8 8 3 8 9 5 7 7 9 3 1 8 0 8 3 6 6 9\n",
      " 2 4 5 3 2 6 2 0 0 8 0 3 0 0 0 7 7 0 2 1 8 0 0 4 1 0 7 0 3 1 1 2 1 1 4 0 5\n",
      " 2 0 0 1 0 2 2 2 2 2 2 2 2 3 2 8 2 2 2 2 3 2 2 8 2 2 4 2 7 8 4 0 7 8 4 1 1\n",
      " 2 8 3 7 7 4 5 3 3 3 9 0 3 3 3 3]\n"
     ]
    }
   ],
   "source": [
    "# Print groundtruth and predicted class labels \n",
    "#actual = np.argmax(Y_test,axis=1)\n",
    "predicted = np.argmax(y_pred,axis=1)\n",
    "#print(f\"Ground Truth: {actual}\")\n",
    "print(f\"Predicted: {predicted}\")"
   ]
  },
  {
   "cell_type": "markdown",
   "id": "ab6fec4d",
   "metadata": {},
   "source": [
    "# Calculating Metrics - Will be performed post release of ground truth"
   ]
  },
  {
   "cell_type": "code",
   "execution_count": 177,
   "id": "4065fb17",
   "metadata": {},
   "outputs": [
    {
     "data": {
      "image/png": "[encoded data removed]",
      "text/plain": [
       "<Figure size 432x288 with 2 Axes>"
      ]
     },
     "metadata": {
      "needs_background": "light"
     },
     "output_type": "display_data"
    }
   ],
   "source": [
    "confusion_matrix = metrics.confusion_matrix(actual, predicted)\n",
    "\n",
    "cm_display = metrics.ConfusionMatrixDisplay(confusion_matrix = confusion_matrix, display_labels = [0,1,2,3,4,5,6,7,8,9])\n",
    "\n",
    "cm_display.plot()\n",
    "\n",
    "plt.show()"
   ]
  },
  {
   "cell_type": "code",
   "execution_count": 178,
   "id": "413490d1",
   "metadata": {},
   "outputs": [
    {
     "name": "stdout",
     "output_type": "stream",
     "text": [
      "0.66\n"
     ]
    }
   ],
   "source": [
    "Accuracy = metrics.accuracy_score(actual, predicted)\n",
    "print(Accuracy)"
   ]
  },
  {
   "cell_type": "code",
   "execution_count": 179,
   "id": "23cea46a",
   "metadata": {},
   "outputs": [
    {
     "name": "stdout",
     "output_type": "stream",
     "text": [
      "[0.94117647 0.5        0.9        0.6        0.7        0.5\n",
      " 0.75       0.54545455 0.75       0.25      ]\n",
      "0.6764144385026738\n"
     ]
    }
   ],
   "source": [
    "Precision_eachclass = metrics.precision_score(actual, predicted,average = None)\n",
    "print(Precision_eachclass)\n",
    "Precision = metrics.precision_score(actual, predicted,average = 'weighted')\n",
    "print(Precision)"
   ]
  },
  {
   "cell_type": "code",
   "execution_count": 180,
   "id": "222c15e9",
   "metadata": {},
   "outputs": [
    {
     "name": "stdout",
     "output_type": "stream",
     "text": [
      "0.66\n"
     ]
    }
   ],
   "source": [
    "Sensitivity_recall = metrics.recall_score(actual, predicted,average = 'weighted')\n",
    "print(Sensitivity_recall)"
   ]
  },
  {
   "cell_type": "code",
   "execution_count": 181,
   "id": "bd7cac22",
   "metadata": {},
   "outputs": [
    {
     "name": "stdout",
     "output_type": "stream",
     "text": [
      "0.6540952380952381\n"
     ]
    }
   ],
   "source": [
    "F1_score = metrics.f1_score(actual, predicted, average = 'weighted')\n",
    "print(F1_score)"
   ]
  },
  {
   "cell_type": "markdown",
   "id": "7e682b33",
   "metadata": {},
   "source": [
    "Exporting the output for the test files"
   ]
  },
  {
   "cell_type": "code",
   "execution_count": 65,
   "id": "2c3ceff0",
   "metadata": {},
   "outputs": [
    {
     "name": "stdout",
     "output_type": "stream",
     "text": [
      "(201, 1)\n",
      "(201, 1)\n",
      "(201, 2)\n"
     ]
    }
   ],
   "source": [
    "ypredtest_Names = [0]*201\n",
    "Final_Test_Results = np.empty([201,2])\n",
    "for i in range(201):\n",
    "    if predicted[i] == 0 :\n",
    "        ypredtest_Names[i] = 'Bark'\n",
    "    elif predicted[i] == 1 :\n",
    "        ypredtest_Names[i] = 'Crying_and_sobbing'\n",
    "    elif predicted[i] == 2 :\n",
    "        ypredtest_Names[i] = 'Doorbell'\n",
    "    elif predicted[i] == 3 :\n",
    "        ypredtest_Names[i] = 'Knock'\n",
    "    elif predicted[i] == 4 :\n",
    "        ypredtest_Names[i] = 'Meow'\n",
    "    elif predicted[i] == 5 :\n",
    "        ypredtest_Names[i] = 'Microwave_oven'\n",
    "    elif predicted[i] == 6 :\n",
    "        ypredtest_Names[i] = 'Shatter'\n",
    "    elif predicted[i] == 7 :\n",
    "        ypredtest_Names[i] = 'Siren'\n",
    "    elif predicted[i] == 8 :\n",
    "        ypredtest_Names[i] = 'Vehicle_horn_and_car_horn_and_honking'\n",
    "    elif predicted[i] == 9 :\n",
    "        ypredtest_Names[i] = 'Walk_and_footsteps'\n",
    "\n",
    "        \n",
    "ypredtest_Names = np.transpose(np.array([ypredtest_Names]))\n",
    "print(ypredtest_Names.shape)\n",
    "directory_list = np.resize(directory_list,(201,1))\n",
    "print(directory_list.shape)\n",
    "\n",
    "Final_Test_Results = np.hstack((directory_list,ypredtest_Names))\n",
    "print(Final_Test_Results.shape)"
   ]
  },
  {
   "cell_type": "code",
   "execution_count": 66,
   "id": "3696e9c2",
   "metadata": {},
   "outputs": [],
   "source": [
    "Final_Test_Results = np.vstack(([['fieldid', 'prediction']], Final_Test_Results))\n",
    "with open ('ANN_Predicted_Testing12102022.csv','w',newline = '') as csvfile:\n",
    "    my_writer = csv.writer(csvfile, delimiter = ' ')\n",
    "    my_writer.writerows(Final_Test_Results)"
   ]
  }
 ],
 "metadata": {
  "kernelspec": {
   "display_name": "Python 3 (ipykernel)",
   "language": "python",
   "name": "python3"
  },
  "language_info": {
   "codemirror_mode": {
    "name": "ipython",
    "version": 3
   },
   "file_extension": ".py",
   "mimetype": "text/x-python",
   "name": "python",
   "nbconvert_exporter": "python",
   "pygments_lexer": "ipython3",
   "version": "3.9.12"
  }
 },
 "nbformat": 4,
 "nbformat_minor": 5
}
